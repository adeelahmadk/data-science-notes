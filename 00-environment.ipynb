{
 "cells": [
  {
   "cell_type": "markdown",
   "id": "51bce4f9",
   "metadata": {},
   "source": [
    "# The Environment\n",
    "\n",
    "Let's generate requirements from jupyter notebook session."
   ]
  },
  {
   "cell_type": "code",
   "execution_count": 11,
   "id": "5879aed9",
   "metadata": {},
   "outputs": [],
   "source": [
    "import numpy as np\n",
    "import pandas as pd\n",
    "import matplotlib.pyplot as plt\n",
    "import seaborn as sns\n",
    "from sklearn.ensemble import RandomForestClassifier\n",
    "#import textwrap\n",
    "#from umap import UMAP\n",
    "from sklearn.metrics import precision_recall_curve, roc_curve, PrecisionRecallDisplay, RocCurveDisplay\n",
    "from tqdm import tqdm\n",
    "\n",
    "sns.set_style('whitegrid')\n",
    "%matplotlib inline\n",
    "\n",
    "tqdm.pandas()\n"
   ]
  },
  {
   "cell_type": "code",
   "execution_count": 8,
   "id": "388e657c-2420-49c4-937e-2e5dee9be278",
   "metadata": {},
   "outputs": [
    {
     "name": "stdout",
     "output_type": "stream",
     "text": [
      "Collecting session_info\n",
      "  Downloading session_info-1.0.0.tar.gz (24 kB)\n",
      "  Preparing metadata (setup.py) ... \u001b[?25ldone\n",
      "\u001b[?25hCollecting stdlib_list (from session_info)\n",
      "  Downloading stdlib_list-0.10.0-py3-none-any.whl.metadata (3.3 kB)\n",
      "Downloading stdlib_list-0.10.0-py3-none-any.whl (79 kB)\n",
      "\u001b[2K   \u001b[38;2;114;156;31m━━━━━━━━━━━━━━━━━━━━━━━━━━━━━━━━━━━━━━━━\u001b[0m \u001b[32m79.8/79.8 kB\u001b[0m \u001b[31m75.4 kB/s\u001b[0m eta \u001b[36m0:00:00\u001b[0m31m72.3 kB/s\u001b[0m eta \u001b[36m0:00:01\u001b[0m\n",
      "\u001b[?25hBuilding wheels for collected packages: session_info\n",
      "  Building wheel for session_info (setup.py) ... \u001b[?25ldone\n",
      "\u001b[?25h  Created wheel for session_info: filename=session_info-1.0.0-py3-none-any.whl size=8026 sha256=6304c4ff10bc3003b4315425e2ebccc5244aafafb438f71c80ecee5ce24a9c31\n",
      "  Stored in directory: /home/adeel/.cache/pip/wheels/6a/aa/b9/eb5d4031476ec10802795b97ccf937b9bd998d68a9b268765a\n",
      "Successfully built session_info\n",
      "Installing collected packages: stdlib_list, session_info\n",
      "Successfully installed session_info-1.0.0 stdlib_list-0.10.0\n"
     ]
    }
   ],
   "source": [
    "!pip install -U session_info"
   ]
  },
  {
   "cell_type": "code",
   "execution_count": 12,
   "id": "7953ff60",
   "metadata": {},
   "outputs": [
    {
     "name": "stdout",
     "output_type": "stream",
     "text": [
      "-----\n",
      "matplotlib          3.8.0\n",
      "numpy               1.26.1\n",
      "pandas              2.1.2\n",
      "seaborn             0.13.0\n",
      "session_info        1.0.0\n",
      "sklearn             1.3.2\n",
      "tqdm                4.66.1\n",
      "-----\n",
      "IPython             8.23.0\n",
      "jupyter_client      8.6.1\n",
      "jupyter_core        5.7.2\n",
      "jupyterlab          4.2.2\n",
      "-----\n",
      "Python 3.10.12 (main, Nov 20 2023, 15:14:05) [GCC 11.4.0]\n",
      "Linux-6.9.3-76060903-generic-x86_64-with-glibc2.35\n",
      "-----\n",
      "Session information updated at 2024-06-27 15:34\n"
     ]
    }
   ],
   "source": [
    "import session_info\n",
    "\n",
    "session_info.show(html=False)"
   ]
  },
  {
   "cell_type": "markdown",
   "id": "c0f1cd1d-60d6-42d1-b00e-60f08b5fd18e",
   "metadata": {},
   "source": [
    "Plotting precision recall and ROC curves in sklearn >= 1.2\n",
    "\n",
    "```python\n",
    "precision, recall, _ = precision_recall_curve(y_test, predictions)\n",
    "disp = PrecisionRecallDisplay(precision=precision, recall=recall)\n",
    "disp.plot()\n",
    "#<...>\n",
    "plt.show()\n",
    "```\n",
    "\n",
    "```python\n",
    "fpr, tpr, thresholds = metrics.roc_curve(y, pred)\n",
    "roc_auc = metrics.auc(fpr, tpr)\n",
    "display = metrics.RocCurveDisplay(fpr=fpr, tpr=tpr, roc_auc=roc_auc,\n",
    "                                  estimator_name='example estimator')\n",
    "display.plot()\n",
    "#<...>\n",
    "plt.show()\n",
    "```\n"
   ]
  }
 ],
 "metadata": {
  "kernelspec": {
   "display_name": "Python 3 (ipykernel)",
   "language": "python",
   "name": "python3"
  },
  "language_info": {
   "codemirror_mode": {
    "name": "ipython",
    "version": 3
   },
   "file_extension": ".py",
   "mimetype": "text/x-python",
   "name": "python",
   "nbconvert_exporter": "python",
   "pygments_lexer": "ipython3",
   "version": "3.10.12"
  }
 },
 "nbformat": 4,
 "nbformat_minor": 5
}
