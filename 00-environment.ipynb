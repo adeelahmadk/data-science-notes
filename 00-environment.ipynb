{
 "cells": [
  {
   "cell_type": "markdown",
   "id": "51bce4f9",
   "metadata": {},
   "source": [
    "# The Environment\n",
    "\n",
    "Let's generate requirements from jupyter notebook session."
   ]
  },
  {
   "cell_type": "code",
   "execution_count": null,
   "id": "5879aed9",
   "metadata": {},
   "outputs": [],
   "source": [
    "import numpy as np\n",
    "import pandas as pd\n",
    "import matplotlib.pyplot as plt\n",
    "import seaborn as sns\n",
    "from sklearn.ensemble import RandomForestClassifier\n",
    "#import textwrap\n",
    "from umap import UMAP\n",
    "from sklearn.metrics import plot_precision_recall_curve, plot_roc_curve\n",
    "from tqdm import tqdm\n",
    "\n",
    "sns.set_style('whitegrid')\n",
    "%matplotlib inline\n",
    "\n",
    "tqdm.pandas()\n"
   ]
  },
  {
   "cell_type": "code",
   "execution_count": 3,
   "id": "7953ff60",
   "metadata": {},
   "outputs": [
    {
     "name": "stdout",
     "output_type": "stream",
     "text": [
      "-----\n",
      "matplotlib          3.4.3\n",
      "numpy               1.21.2\n",
      "pandas              1.3.3\n",
      "seaborn             0.12.2\n",
      "session_info        1.0.0\n",
      "sklearn             1.0\n",
      "-----\n",
      "IPython             8.7.0\n",
      "jupyter_client      7.4.8\n",
      "jupyter_core        5.1.0\n",
      "notebook            6.5.2\n",
      "-----\n",
      "Python 3.9.7 (default, Oct  6 2021, 01:34:26) [GCC 11.1.0]\n",
      "Linux-4.4.205-perf+-aarch64-with-libc\n",
      "-----\n",
      "Session information updated at 2023-01-01 16:28\n"
     ]
    }
   ],
   "source": [
    "import session_info\n",
    "\n",
    "session_info.show(html=False)"
   ]
  }
 ],
 "metadata": {
  "kernelspec": {
   "display_name": "Python 3 (ipykernel)",
   "language": "python",
   "name": "python3"
  },
  "language_info": {
   "codemirror_mode": {
    "name": "ipython",
    "version": 3
   },
   "file_extension": ".py",
   "mimetype": "text/x-python",
   "name": "python",
   "nbconvert_exporter": "python",
   "pygments_lexer": "ipython3",
   "version": "3.9.7"
  }
 },
 "nbformat": 4,
 "nbformat_minor": 5
}
